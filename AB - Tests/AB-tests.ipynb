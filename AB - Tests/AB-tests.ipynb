{
 "cells": [
  {
   "cell_type": "code",
   "execution_count": 2,
   "id": "92b71a55",
   "metadata": {},
   "outputs": [],
   "source": [
    "import pandas as pd\n",
    "import numpy as np\n",
    "import seaborn as sns\n",
    "import statsmodels.api as sm\n",
    "from statsmodels.stats.power import tt_ind_solve_power \n",
    "import matplotlib.pyplot as plt\n",
    "\n",
    "plt.style.use('dark_background')"
   ]
  },
  {
   "cell_type": "markdown",
   "id": "2acac96f",
   "metadata": {},
   "source": [
    "Цель исследования - проанализировать результаты A/B теста: определить влияние тестируемых изменений среднюю стоимость заказа пользователя.\n",
    "\n",
    "Согласно документации к данным структура visitors:\n",
    "\n",
    "user_id — идинтификатор пользователя;\n",
    "\n",
    "veriant_name — экспериментальная группа;\n",
    "\n",
    "revenue — стоимость заказа."
   ]
  },
  {
   "cell_type": "code",
   "execution_count": 2,
   "id": "74640f9c",
   "metadata": {},
   "outputs": [],
   "source": [
    "df = pd.read_csv('/Users/aleusandr/AB-test/AB/data/csv/AB_Test_Results.csv')"
   ]
  },
  {
   "cell_type": "markdown",
   "id": "992c12c7",
   "metadata": {},
   "source": [
    "Проверим целостность данных, присутсвуют ли в них Nan. И соответсвуют ли данные нужным типам."
   ]
  },
  {
   "cell_type": "code",
   "execution_count": 3,
   "id": "e71ea3e8",
   "metadata": {},
   "outputs": [
    {
     "name": "stdout",
     "output_type": "stream",
     "text": [
      "<class 'pandas.core.frame.DataFrame'>\n",
      "RangeIndex: 10000 entries, 0 to 9999\n",
      "Data columns (total 3 columns):\n",
      " #   Column        Non-Null Count  Dtype  \n",
      "---  ------        --------------  -----  \n",
      " 0   USER_ID       10000 non-null  int64  \n",
      " 1   VARIANT_NAME  10000 non-null  object \n",
      " 2   REVENUE       10000 non-null  float64\n",
      "dtypes: float64(1), int64(1), object(1)\n",
      "memory usage: 234.5+ KB\n"
     ]
    }
   ],
   "source": [
    "df.info()"
   ]
  },
  {
   "cell_type": "code",
   "execution_count": 4,
   "id": "e86936da",
   "metadata": {},
   "outputs": [
    {
     "data": {
      "text/html": [
       "<div>\n",
       "<style scoped>\n",
       "    .dataframe tbody tr th:only-of-type {\n",
       "        vertical-align: middle;\n",
       "    }\n",
       "\n",
       "    .dataframe tbody tr th {\n",
       "        vertical-align: top;\n",
       "    }\n",
       "\n",
       "    .dataframe thead th {\n",
       "        text-align: right;\n",
       "    }\n",
       "</style>\n",
       "<table border=\"1\" class=\"dataframe\">\n",
       "  <thead>\n",
       "    <tr style=\"text-align: right;\">\n",
       "      <th></th>\n",
       "      <th>USER_ID</th>\n",
       "      <th>VARIANT_NAME</th>\n",
       "      <th>REVENUE</th>\n",
       "    </tr>\n",
       "  </thead>\n",
       "  <tbody>\n",
       "    <tr>\n",
       "      <th>0</th>\n",
       "      <td>737</td>\n",
       "      <td>variant</td>\n",
       "      <td>0.0</td>\n",
       "    </tr>\n",
       "    <tr>\n",
       "      <th>1</th>\n",
       "      <td>2423</td>\n",
       "      <td>control</td>\n",
       "      <td>0.0</td>\n",
       "    </tr>\n",
       "    <tr>\n",
       "      <th>2</th>\n",
       "      <td>9411</td>\n",
       "      <td>control</td>\n",
       "      <td>0.0</td>\n",
       "    </tr>\n",
       "    <tr>\n",
       "      <th>3</th>\n",
       "      <td>7311</td>\n",
       "      <td>control</td>\n",
       "      <td>0.0</td>\n",
       "    </tr>\n",
       "    <tr>\n",
       "      <th>4</th>\n",
       "      <td>6174</td>\n",
       "      <td>variant</td>\n",
       "      <td>0.0</td>\n",
       "    </tr>\n",
       "  </tbody>\n",
       "</table>\n",
       "</div>"
      ],
      "text/plain": [
       "   USER_ID VARIANT_NAME  REVENUE\n",
       "0      737      variant      0.0\n",
       "1     2423      control      0.0\n",
       "2     9411      control      0.0\n",
       "3     7311      control      0.0\n",
       "4     6174      variant      0.0"
      ]
     },
     "execution_count": 4,
     "metadata": {},
     "output_type": "execute_result"
    }
   ],
   "source": [
    "df.head()"
   ]
  },
  {
   "cell_type": "markdown",
   "id": "da26a887",
   "metadata": {},
   "source": [
    "Проверим грамотность системы сплитования, есть ли у нас такие пользователи, которые находятся и в тестовой и контрольной группе одновременно"
   ]
  },
  {
   "cell_type": "code",
   "execution_count": 5,
   "id": "c34280fb",
   "metadata": {},
   "outputs": [
    {
     "name": "stdout",
     "output_type": "stream",
     "text": [
      "Количество уникальных юзеров, которые находятся одновременно в двух группах: 1541\n",
      "=================================================================================\n"
     ]
    }
   ],
   "source": [
    "user_cont = df[df['VARIANT_NAME'] == 'control']['USER_ID']\n",
    "user_test = df[df['VARIANT_NAME'] == 'variant']['USER_ID']\n",
    "\n",
    "print('Количество уникальных юзеров, которые находятся одновременно в двух группах:',\n",
    "      len(np.intersect1d(user_cont,user_test)))\n",
    "print('=================================================================================')\n"
   ]
  },
  {
   "cell_type": "markdown",
   "id": "fe4962e3",
   "metadata": {},
   "source": [
    "Уберем тех пользователей из датафрейма, которые находятся одновременно в двух группах"
   ]
  },
  {
   "cell_type": "code",
   "execution_count": 12,
   "id": "9680c6f8",
   "metadata": {},
   "outputs": [],
   "source": [
    "df_new = df.loc[~df['USER_ID'].isin(np.intersect1d(user_cont,user_test))]"
   ]
  },
  {
   "cell_type": "markdown",
   "id": "2a374c63",
   "metadata": {},
   "source": [
    "Контрольная группая имеет тяжелый хвост, посмотрим много ли таких значений"
   ]
  },
  {
   "cell_type": "code",
   "execution_count": 13,
   "id": "bc8ed0a0",
   "metadata": {},
   "outputs": [
    {
     "data": {
      "text/html": [
       "<div>\n",
       "<style scoped>\n",
       "    .dataframe tbody tr th:only-of-type {\n",
       "        vertical-align: middle;\n",
       "    }\n",
       "\n",
       "    .dataframe tbody tr th {\n",
       "        vertical-align: top;\n",
       "    }\n",
       "\n",
       "    .dataframe thead th {\n",
       "        text-align: right;\n",
       "    }\n",
       "</style>\n",
       "<table border=\"1\" class=\"dataframe\">\n",
       "  <thead>\n",
       "    <tr style=\"text-align: right;\">\n",
       "      <th></th>\n",
       "      <th>VARIANT_NAME</th>\n",
       "      <th>mean</th>\n",
       "      <th>stdev</th>\n",
       "      <th>count</th>\n",
       "      <th>max</th>\n",
       "    </tr>\n",
       "  </thead>\n",
       "  <tbody>\n",
       "    <tr>\n",
       "      <th>0</th>\n",
       "      <td>control</td>\n",
       "      <td>0.155506</td>\n",
       "      <td>3.708620</td>\n",
       "      <td>3026</td>\n",
       "      <td>196.01</td>\n",
       "    </tr>\n",
       "    <tr>\n",
       "      <th>1</th>\n",
       "      <td>variant</td>\n",
       "      <td>0.058909</td>\n",
       "      <td>0.760344</td>\n",
       "      <td>3044</td>\n",
       "      <td>23.04</td>\n",
       "    </tr>\n",
       "  </tbody>\n",
       "</table>\n",
       "</div>"
      ],
      "text/plain": [
       "  VARIANT_NAME      mean     stdev  count     max\n",
       "0      control  0.155506  3.708620   3026  196.01\n",
       "1      variant  0.058909  0.760344   3044   23.04"
      ]
     },
     "execution_count": 13,
     "metadata": {},
     "output_type": "execute_result"
    }
   ],
   "source": [
    "df_new.groupby('VARIANT_NAME', as_index=False).REVENUE.agg({'mean':'mean',\n",
    "                                                            'stdev':'std',\n",
    "                                                            'count':'count',\n",
    "                                                            'max':'max'})"
   ]
  },
  {
   "cell_type": "markdown",
   "id": "2e881b0d",
   "metadata": {},
   "source": [
    "В данных присутвует только один выброс, думаю можно от него избавиться"
   ]
  },
  {
   "cell_type": "code",
   "execution_count": 14,
   "id": "b16de356",
   "metadata": {},
   "outputs": [
    {
     "data": {
      "text/html": [
       "<div>\n",
       "<style scoped>\n",
       "    .dataframe tbody tr th:only-of-type {\n",
       "        vertical-align: middle;\n",
       "    }\n",
       "\n",
       "    .dataframe tbody tr th {\n",
       "        vertical-align: top;\n",
       "    }\n",
       "\n",
       "    .dataframe thead th {\n",
       "        text-align: right;\n",
       "    }\n",
       "</style>\n",
       "<table border=\"1\" class=\"dataframe\">\n",
       "  <thead>\n",
       "    <tr style=\"text-align: right;\">\n",
       "      <th></th>\n",
       "      <th>USER_ID</th>\n",
       "      <th>VARIANT_NAME</th>\n",
       "      <th>REVENUE</th>\n",
       "    </tr>\n",
       "  </thead>\n",
       "  <tbody>\n",
       "    <tr>\n",
       "      <th>1437</th>\n",
       "      <td>3342</td>\n",
       "      <td>control</td>\n",
       "      <td>196.01</td>\n",
       "    </tr>\n",
       "    <tr>\n",
       "      <th>8168</th>\n",
       "      <td>2166</td>\n",
       "      <td>control</td>\n",
       "      <td>29.32</td>\n",
       "    </tr>\n",
       "    <tr>\n",
       "      <th>2482</th>\n",
       "      <td>7356</td>\n",
       "      <td>variant</td>\n",
       "      <td>23.04</td>\n",
       "    </tr>\n",
       "    <tr>\n",
       "      <th>6412</th>\n",
       "      <td>1053</td>\n",
       "      <td>control</td>\n",
       "      <td>20.07</td>\n",
       "    </tr>\n",
       "    <tr>\n",
       "      <th>5217</th>\n",
       "      <td>3684</td>\n",
       "      <td>variant</td>\n",
       "      <td>19.47</td>\n",
       "    </tr>\n",
       "  </tbody>\n",
       "</table>\n",
       "</div>"
      ],
      "text/plain": [
       "      USER_ID VARIANT_NAME  REVENUE\n",
       "1437     3342      control   196.01\n",
       "8168     2166      control    29.32\n",
       "2482     7356      variant    23.04\n",
       "6412     1053      control    20.07\n",
       "5217     3684      variant    19.47"
      ]
     },
     "execution_count": 14,
     "metadata": {},
     "output_type": "execute_result"
    }
   ],
   "source": [
    "df_new.sort_values('REVENUE', ascending=False).head()"
   ]
  },
  {
   "cell_type": "code",
   "execution_count": 15,
   "id": "5cd732da",
   "metadata": {},
   "outputs": [],
   "source": [
    "df_without_max = df_new[df_new['REVENUE'] != df_new['REVENUE'].max()]"
   ]
  },
  {
   "cell_type": "code",
   "execution_count": 16,
   "id": "0c909e96",
   "metadata": {},
   "outputs": [
    {
     "data": {
      "text/html": [
       "<div>\n",
       "<style scoped>\n",
       "    .dataframe tbody tr th:only-of-type {\n",
       "        vertical-align: middle;\n",
       "    }\n",
       "\n",
       "    .dataframe tbody tr th {\n",
       "        vertical-align: top;\n",
       "    }\n",
       "\n",
       "    .dataframe thead th {\n",
       "        text-align: right;\n",
       "    }\n",
       "</style>\n",
       "<table border=\"1\" class=\"dataframe\">\n",
       "  <thead>\n",
       "    <tr style=\"text-align: right;\">\n",
       "      <th></th>\n",
       "      <th>VARIANT_NAME</th>\n",
       "      <th>mean</th>\n",
       "      <th>stdev</th>\n",
       "      <th>count</th>\n",
       "      <th>max</th>\n",
       "    </tr>\n",
       "  </thead>\n",
       "  <tbody>\n",
       "    <tr>\n",
       "      <th>0</th>\n",
       "      <td>control</td>\n",
       "      <td>0.090760</td>\n",
       "      <td>1.034101</td>\n",
       "      <td>3025</td>\n",
       "      <td>29.32</td>\n",
       "    </tr>\n",
       "    <tr>\n",
       "      <th>1</th>\n",
       "      <td>variant</td>\n",
       "      <td>0.058909</td>\n",
       "      <td>0.760344</td>\n",
       "      <td>3044</td>\n",
       "      <td>23.04</td>\n",
       "    </tr>\n",
       "  </tbody>\n",
       "</table>\n",
       "</div>"
      ],
      "text/plain": [
       "  VARIANT_NAME      mean     stdev  count    max\n",
       "0      control  0.090760  1.034101   3025  29.32\n",
       "1      variant  0.058909  0.760344   3044  23.04"
      ]
     },
     "execution_count": 16,
     "metadata": {},
     "output_type": "execute_result"
    }
   ],
   "source": [
    "df_without_max.groupby('VARIANT_NAME', as_index=False).REVENUE.agg({'mean':'mean',\n",
    "                                                            'stdev':'std',\n",
    "                                                            'count':'count',\n",
    "                                                            'max':'max'})"
   ]
  },
  {
   "cell_type": "code",
   "execution_count": 17,
   "id": "2a11a9cc",
   "metadata": {},
   "outputs": [
    {
     "data": {
      "text/plain": [
       "<AxesSubplot:xlabel='REVENUE', ylabel='Count'>"
      ]
     },
     "execution_count": 17,
     "metadata": {},
     "output_type": "execute_result"
    },
    {
     "data": {
      "image/png": "[encoded data removed]",
      "text/plain": [
       "<Figure size 432x288 with 1 Axes>"
      ]
     },
     "metadata": {},
     "output_type": "display_data"
    }
   ],
   "source": [
    "sns.histplot(df_without_max[df_without_max['VARIANT_NAME'] == 'control'], x='REVENUE', hue='VARIANT_NAME')"
   ]
  },
  {
   "cell_type": "code",
   "execution_count": 18,
   "id": "d0f5c7a5",
   "metadata": {},
   "outputs": [
    {
     "data": {
      "text/plain": [
       "<AxesSubplot:xlabel='REVENUE', ylabel='Count'>"
      ]
     },
     "execution_count": 18,
     "metadata": {},
     "output_type": "execute_result"
    },
    {
     "data": {
      "image/png": "[encoded data removed]",
      "text/plain": [
       "<Figure size 432x288 with 1 Axes>"
      ]
     },
     "metadata": {},
     "output_type": "display_data"
    }
   ],
   "source": [
    "sns.histplot(df_without_max[df_without_max['VARIANT_NAME'] == 'variant'], x='REVENUE', hue='VARIANT_NAME')"
   ]
  },
  {
   "cell_type": "markdown",
   "id": "7d5bd952",
   "metadata": {},
   "source": [
    "Проверим получится ли получить нормальное распредление выборочных средних, если да, то применем т-тест"
   ]
  },
  {
   "cell_type": "code",
   "execution_count": 19,
   "id": "be8627ac",
   "metadata": {},
   "outputs": [],
   "source": [
    "l = []\n",
    "n = 1000\n",
    "\n",
    "for i in range(n):\n",
    "    l.append(df_without_max[df_without_max['VARIANT_NAME'] == 'control']['REVENUE'].sample(1000, replace=True).mean())"
   ]
  },
  {
   "cell_type": "code",
   "execution_count": 20,
   "id": "64ef4cfe",
   "metadata": {},
   "outputs": [
    {
     "data": {
      "text/plain": [
       "Text(0.5, 1.0, 'Распределение выборочных средних')"
      ]
     },
     "execution_count": 20,
     "metadata": {},
     "output_type": "execute_result"
    },
    {
     "data": {
      "image/png": "[encoded data removed]",
      "text/plain": [
       "<Figure size 432x288 with 1 Axes>"
      ]
     },
     "metadata": {},
     "output_type": "display_data"
    }
   ],
   "source": [
    "sns.histplot(l)\n",
    "plt.title('Распределение выборочных средних')"
   ]
  },
  {
   "cell_type": "markdown",
   "id": "9192763d",
   "metadata": {},
   "source": [
    "# Проверка статистических гипотез "
   ]
  },
  {
   "cell_type": "markdown",
   "id": "a708fb26",
   "metadata": {},
   "source": [
    "H0: различий в средней стоимости заказа в между группами нет\n",
    "\n",
    "H1: различия в средней стоимости заказа между группами есть\n",
    "\n",
    "Применем статистический критерий Стьюдента при альфа 0.05"
   ]
  },
  {
   "cell_type": "code",
   "execution_count": 60,
   "id": "9897c260",
   "metadata": {},
   "outputs": [
    {
     "data": {
      "text/html": [
       "<div>\n",
       "<style scoped>\n",
       "    .dataframe tbody tr th:only-of-type {\n",
       "        vertical-align: middle;\n",
       "    }\n",
       "\n",
       "    .dataframe tbody tr th {\n",
       "        vertical-align: top;\n",
       "    }\n",
       "\n",
       "    .dataframe thead th {\n",
       "        text-align: right;\n",
       "    }\n",
       "</style>\n",
       "<table border=\"1\" class=\"dataframe\">\n",
       "  <thead>\n",
       "    <tr style=\"text-align: right;\">\n",
       "      <th></th>\n",
       "      <th>VARIANT_NAME</th>\n",
       "      <th>mean</th>\n",
       "      <th>count_users</th>\n",
       "    </tr>\n",
       "  </thead>\n",
       "  <tbody>\n",
       "    <tr>\n",
       "      <th>0</th>\n",
       "      <td>control</td>\n",
       "      <td>0.090760</td>\n",
       "      <td>3025</td>\n",
       "    </tr>\n",
       "    <tr>\n",
       "      <th>1</th>\n",
       "      <td>variant</td>\n",
       "      <td>0.058909</td>\n",
       "      <td>3044</td>\n",
       "    </tr>\n",
       "  </tbody>\n",
       "</table>\n",
       "</div>"
      ],
      "text/plain": [
       "  VARIANT_NAME      mean  count_users\n",
       "0      control  0.090760         3025\n",
       "1      variant  0.058909         3044"
      ]
     },
     "execution_count": 60,
     "metadata": {},
     "output_type": "execute_result"
    }
   ],
   "source": [
    "df_without_max.groupby('VARIANT_NAME', as_index=False) \\\n",
    ".agg({'REVENUE':'mean', 'USER_ID':'count'}) \\\n",
    ".rename(columns={'REVENUE':'mean', 'USER_ID':'count_users'})"
   ]
  },
  {
   "cell_type": "code",
   "execution_count": 21,
   "id": "5a2065f9",
   "metadata": {},
   "outputs": [
    {
     "name": "stdout",
     "output_type": "stream",
     "text": [
      "Two Sample t-test\n",
      "t = -1.3663144025815133\n",
      "p-value = 0.1718956232984357\n",
      "df =  5553.252812092886\n"
     ]
    }
   ],
   "source": [
    "res = sm.stats.ttest_ind(df_without_max[df_without_max['VARIANT_NAME'] == 'variant']['REVENUE'], \n",
    "                         df_without_max[df_without_max['VARIANT_NAME'] == 'control']['REVENUE'], \n",
    "                         usevar=\"unequal\")\n",
    "print(\"Two Sample t-test\")\n",
    "print(\"t =\", res[0])\n",
    "print(\"p-value =\", res[1])\n",
    "print(\"df = \", res[2])"
   ]
  },
  {
   "cell_type": "markdown",
   "id": "10f0edf4",
   "metadata": {},
   "source": [
    "P_value > 0.05, следовательно мы не можем отклонить нулевую гипотезу о равенстве средних"
   ]
  },
  {
   "cell_type": "markdown",
   "id": "7caaf1d2",
   "metadata": {},
   "source": [
    "Проверим могли ли мы тут увидеть какие либо различия, посчитаем мощность при имеющеся разнице в средних\n"
   ]
  },
  {
   "cell_type": "code",
   "execution_count": 22,
   "id": "8e7abcd5",
   "metadata": {},
   "outputs": [],
   "source": [
    "mean_control = df_without_max[df_without_max['VARIANT_NAME'] == 'control']['REVENUE'].mean()\n",
    "mean_test = df_without_max[df_without_max['VARIANT_NAME'] == 'variant']['REVENUE'].mean()\n",
    "\n",
    "std_control = df_without_max[df_without_max['VARIANT_NAME'] == 'control']['REVENUE'].std()\n",
    "std_test = df_without_max[df_without_max['VARIANT_NAME'] == 'variant']['REVENUE'].std()\n",
    "\n",
    "nobs = df_without_max[df_without_max['VARIANT_NAME'] == 'control']['REVENUE'].count()\n",
    "\n",
    "effect_size = (mean_control - mean_test) / ( (std_control + std_test)/2 )"
   ]
  },
  {
   "cell_type": "markdown",
   "id": "e1d29c59",
   "metadata": {},
   "source": [
    "У нас получилась очень слабая статистическа мощность меньше 80%. Попробуем понять сколько нам нужно данных, чтобы увидеть такие различия, при мощности в 80%"
   ]
  },
  {
   "cell_type": "code",
   "execution_count": 23,
   "id": "8b1d55cc",
   "metadata": {},
   "outputs": [
    {
     "name": "stdout",
     "output_type": "stream",
     "text": [
      "0.28151900266960544\n"
     ]
    }
   ],
   "source": [
    "print(tt_ind_solve_power(effect_size=effect_size, alpha=0.05, nobs1=nobs, ratio=1))"
   ]
  },
  {
   "cell_type": "code",
   "execution_count": 24,
   "id": "01c42907",
   "metadata": {},
   "outputs": [
    {
     "name": "stdout",
     "output_type": "stream",
     "text": [
      "12457.317970376882\n"
     ]
    }
   ],
   "source": [
    "print(tt_ind_solve_power(effect_size=effect_size, alpha=0.05, power=0.8, nobs1=None, ratio=1))"
   ]
  },
  {
   "cell_type": "markdown",
   "id": "fe87a154",
   "metadata": {},
   "source": [
    "Чтобы нам задетектировать изменения в 44% нам необходимо в четыре раза больше данных."
   ]
  },
  {
   "cell_type": "markdown",
   "id": "fc73e7ea",
   "metadata": {},
   "source": [
    "# Проверка статистических гипотез ARPU"
   ]
  },
  {
   "cell_type": "markdown",
   "id": "95b3e6d4",
   "metadata": {},
   "source": [
    "H0: различий в средней выручки на пользователя между группами нет\n",
    "\n",
    "H1: различия в средней выручки на пользователя между группами есть"
   ]
  },
  {
   "cell_type": "code",
   "execution_count": 27,
   "id": "d02dcbf7",
   "metadata": {},
   "outputs": [],
   "source": [
    "df_arpu = df_without_max.groupby(['VARIANT_NAME', 'USER_ID'], as_index=False).REVENUE.sum()"
   ]
  },
  {
   "cell_type": "code",
   "execution_count": 61,
   "id": "1e177b19",
   "metadata": {},
   "outputs": [
    {
     "data": {
      "text/html": [
       "<div>\n",
       "<style scoped>\n",
       "    .dataframe tbody tr th:only-of-type {\n",
       "        vertical-align: middle;\n",
       "    }\n",
       "\n",
       "    .dataframe tbody tr th {\n",
       "        vertical-align: top;\n",
       "    }\n",
       "\n",
       "    .dataframe thead th {\n",
       "        text-align: right;\n",
       "    }\n",
       "</style>\n",
       "<table border=\"1\" class=\"dataframe\">\n",
       "  <thead>\n",
       "    <tr style=\"text-align: right;\">\n",
       "      <th></th>\n",
       "      <th>VARIANT_NAME</th>\n",
       "      <th>mean</th>\n",
       "      <th>count_users</th>\n",
       "    </tr>\n",
       "  </thead>\n",
       "  <tbody>\n",
       "    <tr>\n",
       "      <th>0</th>\n",
       "      <td>control</td>\n",
       "      <td>0.114923</td>\n",
       "      <td>2389</td>\n",
       "    </tr>\n",
       "    <tr>\n",
       "      <th>1</th>\n",
       "      <td>variant</td>\n",
       "      <td>0.074935</td>\n",
       "      <td>2393</td>\n",
       "    </tr>\n",
       "  </tbody>\n",
       "</table>\n",
       "</div>"
      ],
      "text/plain": [
       "  VARIANT_NAME      mean  count_users\n",
       "0      control  0.114923         2389\n",
       "1      variant  0.074935         2393"
      ]
     },
     "execution_count": 61,
     "metadata": {},
     "output_type": "execute_result"
    }
   ],
   "source": [
    "df_arpu.groupby('VARIANT_NAME', as_index=False) \\\n",
    ".agg({'REVENUE':'mean', 'USER_ID':'count'}) \\\n",
    ".rename(columns={'REVENUE':'mean', 'USER_ID':'count_users'})"
   ]
  },
  {
   "cell_type": "code",
   "execution_count": 32,
   "id": "32f42a7a",
   "metadata": {},
   "outputs": [
    {
     "name": "stdout",
     "output_type": "stream",
     "text": [
      "Two Sample t-test\n",
      "t = -1.3530141605678103\n",
      "p-value = 0.17612070391611032\n",
      "df =  4394.71189837828\n"
     ]
    }
   ],
   "source": [
    "res = sm.stats.ttest_ind(df_arpu[df_arpu['VARIANT_NAME'] == 'variant']['REVENUE'], \n",
    "                         df_arpu[df_arpu['VARIANT_NAME'] == 'control']['REVENUE'], \n",
    "                         usevar=\"unequal\")\n",
    "print(\"Two Sample t-test\")\n",
    "print(\"t =\", res[0])\n",
    "print(\"p-value =\", res[1])\n",
    "print(\"df = \", res[2])"
   ]
  },
  {
   "cell_type": "markdown",
   "id": "a7b9f94c",
   "metadata": {},
   "source": [
    "P_value > 0.05, следовательно мы не можем отклонить нулевую гипотезу о равенстве средней выручки на пользователя \n",
    "\n"
   ]
  },
  {
   "cell_type": "code",
   "execution_count": 47,
   "id": "2e0b0efb",
   "metadata": {},
   "outputs": [],
   "source": [
    "mean_control = df_arpu[df_arpu['VARIANT_NAME'] == 'control']['REVENUE'].mean()\n",
    "mean_test = df_arpu[df_arpu['VARIANT_NAME'] == 'variant']['REVENUE'].mean()\n",
    "\n",
    "std_control = df_arpu[df_arpu['VARIANT_NAME'] == 'control']['REVENUE'].std()\n",
    "std_test = df_arpu[df_arpu['VARIANT_NAME'] == 'variant']['REVENUE'].std()\n",
    "\n",
    "nobs = df_arpu[df_arpu['VARIANT_NAME'] == 'control']['REVENUE'].count()\n",
    "\n",
    "effect_size = (mean_control - mean_test) / ( (std_control + std_test)/2 )"
   ]
  },
  {
   "cell_type": "code",
   "execution_count": 48,
   "id": "fe03879c",
   "metadata": {},
   "outputs": [
    {
     "name": "stdout",
     "output_type": "stream",
     "text": [
      "0.2772381567608314\n"
     ]
    }
   ],
   "source": [
    "print(tt_ind_solve_power(effect_size=effect_size, alpha=0.05, nobs1=nobs, ratio=1))"
   ]
  },
  {
   "cell_type": "code",
   "execution_count": 49,
   "id": "9e2a6546",
   "metadata": {},
   "outputs": [
    {
     "name": "stdout",
     "output_type": "stream",
     "text": [
      "10022.541718530958\n"
     ]
    }
   ],
   "source": [
    "print(tt_ind_solve_power(effect_size=effect_size, alpha=0.05, power=0.8, nobs1=None, ratio=1))"
   ]
  },
  {
   "cell_type": "markdown",
   "id": "91b5cfe9",
   "metadata": {},
   "source": [
    "# Проверка статистических гипотез ARPPU"
   ]
  },
  {
   "cell_type": "markdown",
   "id": "86731f21",
   "metadata": {},
   "source": [
    "H0: различий в средней выручки на платящего пользователя между группами нет\n",
    "\n",
    "H1: различия в средней выручки на платящего пользователя между группами есть"
   ]
  },
  {
   "cell_type": "code",
   "execution_count": 36,
   "id": "9597aac2",
   "metadata": {},
   "outputs": [],
   "source": [
    "df_arppu = df_arpu[df_arpu['REVENUE'] > 0]"
   ]
  },
  {
   "cell_type": "code",
   "execution_count": 62,
   "id": "2e720365",
   "metadata": {},
   "outputs": [
    {
     "data": {
      "text/html": [
       "<div>\n",
       "<style scoped>\n",
       "    .dataframe tbody tr th:only-of-type {\n",
       "        vertical-align: middle;\n",
       "    }\n",
       "\n",
       "    .dataframe tbody tr th {\n",
       "        vertical-align: top;\n",
       "    }\n",
       "\n",
       "    .dataframe thead th {\n",
       "        text-align: right;\n",
       "    }\n",
       "</style>\n",
       "<table border=\"1\" class=\"dataframe\">\n",
       "  <thead>\n",
       "    <tr style=\"text-align: right;\">\n",
       "      <th></th>\n",
       "      <th>VARIANT_NAME</th>\n",
       "      <th>mean</th>\n",
       "      <th>count_users</th>\n",
       "    </tr>\n",
       "  </thead>\n",
       "  <tbody>\n",
       "    <tr>\n",
       "      <th>0</th>\n",
       "      <td>control</td>\n",
       "      <td>5.180189</td>\n",
       "      <td>53</td>\n",
       "    </tr>\n",
       "    <tr>\n",
       "      <th>1</th>\n",
       "      <td>variant</td>\n",
       "      <td>4.269524</td>\n",
       "      <td>42</td>\n",
       "    </tr>\n",
       "  </tbody>\n",
       "</table>\n",
       "</div>"
      ],
      "text/plain": [
       "  VARIANT_NAME      mean  count_users\n",
       "0      control  5.180189           53\n",
       "1      variant  4.269524           42"
      ]
     },
     "execution_count": 62,
     "metadata": {},
     "output_type": "execute_result"
    }
   ],
   "source": [
    "df_arppu.groupby('VARIANT_NAME', as_index=False) \\\n",
    ".agg({'REVENUE':'mean', 'USER_ID':'count'}) \\\n",
    ".rename(columns={'REVENUE':'mean', 'USER_ID':'count_users'})"
   ]
  },
  {
   "cell_type": "code",
   "execution_count": 42,
   "id": "896ce449",
   "metadata": {},
   "outputs": [
    {
     "name": "stdout",
     "output_type": "stream",
     "text": [
      "Two Sample t-test\n",
      "t = -0.8136665690473128\n",
      "p-value = 0.4179205833376849\n",
      "df =  92.72209446221731\n"
     ]
    }
   ],
   "source": [
    "res = sm.stats.ttest_ind(df_arppu[df_arppu['VARIANT_NAME'] == 'variant']['REVENUE'], \n",
    "                         df_arppu[df_arppu['VARIANT_NAME'] == 'control']['REVENUE'], \n",
    "                         usevar=\"unequal\")\n",
    "print(\"Two Sample t-test\")\n",
    "print(\"t =\", res[0])\n",
    "print(\"p-value =\", res[1])\n",
    "print(\"df = \", res[2])"
   ]
  },
  {
   "cell_type": "code",
   "execution_count": 43,
   "id": "b09a3a58",
   "metadata": {},
   "outputs": [],
   "source": [
    "mean_control = df_arppu[df_arppu['VARIANT_NAME'] == 'control']['REVENUE'].mean()\n",
    "mean_test = df_arppu[df_arppu['VARIANT_NAME'] == 'variant']['REVENUE'].mean()\n",
    "\n",
    "std_control = df_arppu[df_arppu['VARIANT_NAME'] == 'control']['REVENUE'].std()\n",
    "std_test = df_arppu[df_arppu['VARIANT_NAME'] == 'variant']['REVENUE'].std()\n",
    "\n",
    "nobs = df_arppu[df_arppu['VARIANT_NAME'] == 'control']['REVENUE'].count()\n",
    "\n",
    "effect_size = (mean_control - mean_test) / ( (std_control + std_test)/2 )"
   ]
  },
  {
   "cell_type": "markdown",
   "id": "dc8c3ed0",
   "metadata": {},
   "source": [
    "P_value > 0.05, следовательно мы не можем отклонить нулевую гипотезу о равенстве средней выручки на платящего пользователя"
   ]
  },
  {
   "cell_type": "markdown",
   "id": "6ec3f1a8",
   "metadata": {},
   "source": [
    "У нас получилась очень слабая статистическа мощность меньше 80%. Попробуем понять сколько нам нужно данных, чтобы увидеть такие различия, при мощности в 80%"
   ]
  },
  {
   "cell_type": "code",
   "execution_count": 44,
   "id": "f8ed6adc",
   "metadata": {},
   "outputs": [
    {
     "name": "stdout",
     "output_type": "stream",
     "text": [
      "0.13637054357692283\n"
     ]
    }
   ],
   "source": [
    "print(tt_ind_solve_power(effect_size=effect_size, alpha=0.05, nobs1=nobs, ratio=1))"
   ]
  },
  {
   "cell_type": "code",
   "execution_count": 45,
   "id": "328c0c83",
   "metadata": {},
   "outputs": [
    {
     "name": "stdout",
     "output_type": "stream",
     "text": [
      "563.7082873609577\n"
     ]
    }
   ],
   "source": [
    "print(tt_ind_solve_power(effect_size=effect_size, alpha=0.05, power=0.8, nobs1=None, ratio=1))"
   ]
  },
  {
   "cell_type": "markdown",
   "id": "068ee834",
   "metadata": {},
   "source": [
    "# Результаты исследования"
   ]
  },
  {
   "cell_type": "markdown",
   "id": "6721d09d",
   "metadata": {},
   "source": [
    "1. При проведении анализа были обнаружены ошибки в системе сплитования, так как некоторые пользователи оказались в обоих группах.\n",
    "\n",
    "\n",
    "2. Задетектировать значимые различия в группах по средней стоимости заказа не получилось, так как p>0.05, следовательно мы не можем отвергуть нулевую гипотезу. Для того, чтобы задетектировать имеющиеся различия, нам необходимо увеличть мощность, текущая мощность равна 28%, чтобы увеличть ее до 80% нам нужно 12457 юзиров на одну ветку, а это в четыре раза больше, чем есть на данный момент. Если бы у меня были исторические данные, я бы попробовал сократить дисперсию методом cuped.\n",
    "\n",
    "\n",
    "3. Задетектировать значимые различия в группах по средней выручки на пользователя, также не получилось. Мощность очень маленькая 27%\n",
    "\n",
    "\n",
    "4. Задетектировать значимые различия в группах по средней выручки на платящего пользователя, также не получилось, мощность 13%\n",
    "\n",
    "\n",
    "Вывод: Я думаю, что можно попробовать подержать эксперемент подольше, чтобы добрать пользователей, что является не очень хорошим решением, или же взять исторические данные и попробоать увеличть чувствительность путем сокращения дисперсии методом cuped"
   ]
  },
  {
   "cell_type": "code",
   "execution_count": null,
   "id": "79bdce6f",
   "metadata": {},
   "outputs": [],
   "source": []
  }
 ],
 "metadata": {
  "kernelspec": {
   "display_name": "Python 3 (ipykernel)",
   "language": "python",
   "name": "python3"
  },
  "language_info": {
   "codemirror_mode": {
    "name": "ipython",
    "version": 3
   },
   "file_extension": ".py",
   "mimetype": "text/x-python",
   "name": "python",
   "nbconvert_exporter": "python",
   "pygments_lexer": "ipython3",
   "version": "3.9.1"
  }
 },
 "nbformat": 4,
 "nbformat_minor": 5
}
