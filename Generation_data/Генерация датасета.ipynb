{
 "cells": [
  {
   "cell_type": "code",
   "execution_count": 1,
   "id": "6ef58e03",
   "metadata": {},
   "outputs": [],
   "source": [
    "import pandas as pd\n",
    "import numpy as np\n",
    "import random\n",
    "from datetime import date\n",
    "from faker import Faker\n",
    "from transliterate import translit\n",
    "import seaborn as sns\n",
    "from pandas.tseries.offsets import DateOffset\n",
    "\n",
    "np.random.seed(42)\n",
    "random.seed(42)\n",
    "faker = Faker('ru_RU')"
   ]
  },
  {
   "cell_type": "code",
   "execution_count": 3,
   "id": "d718d3ef",
   "metadata": {},
   "outputs": [],
   "source": [
    "## User_information \n",
    "data_users = {'user_id': [_ for _ in range(1, 10001)],\n",
    "              'sex': np.random.choice(['male', 'female'], size = 10000, p = [0.49, 0.51]),\n",
    "              'year': [pd.to_datetime(faker.date_of_birth(minimum_age=19, maximum_age=45)) for _ in range(10000)],\n",
    "              'device': np.random.choice(['ios', 'android'], size = 10000, p = [0.7, 0.3]),\n",
    "              'country': np.random.choice(['Russia', 'Ukraine', 'Bellarus', 'Kazakhstan'], size = 10000, p = [0.6, 0.1, 0.25, 0.05])}"
   ]
  },
  {
   "cell_type": "code",
   "execution_count": 5,
   "id": "17fe3ae4",
   "metadata": {},
   "outputs": [],
   "source": [
    "## Генерация города клиента \n",
    "def city(country):\n",
    "    if country == 'Ukraine':\n",
    "        return np.random.choice(['Kiev', 'Kharkiv','Odessa'])\n",
    "    elif country == 'Russia':\n",
    "        return np.random.choice(['Moscow', 'SPB', 'Chita', 'Novosibirsk', 'Ekb', 'Vologda', 'Novgorod'], p = [0.4, 0.4, 0.02, 0.06, 0.03, 0.05, 0.04])\n",
    "    elif country == 'Bellarus':\n",
    "        return np.random.choice(['Minsk', 'Grodno'])\n",
    "    elif country == 'Kazakhstan':\n",
    "        return np.random.choice(['Astana', 'Almata', 'Pavlodar'])\n",
    "                                "
   ]
  },
  {
   "cell_type": "code",
   "execution_count": 6,
   "id": "601cfcdd",
   "metadata": {},
   "outputs": [],
   "source": [
    "df_data_users = pd.DataFrame(data_users)\n",
    "df_data_users['city'] = df_data_users['country'].apply(lambda x: city(x))"
   ]
  },
  {
   "cell_type": "code",
   "execution_count": 284,
   "id": "f29ba980",
   "metadata": {},
   "outputs": [],
   "source": [
    "df_data_users.to_csv('users_information.csv')"
   ]
  },
  {
   "cell_type": "code",
   "execution_count": 24,
   "id": "2e90e363",
   "metadata": {},
   "outputs": [],
   "source": [
    "## Генерация названия продукта \n",
    "def name():\n",
    "    prod = 'ABVGDFRTANDHDYESBHEYEOLSMWH'\n",
    "    return ''.join(random.choice(prod) for _ in range(6))"
   ]
  },
  {
   "cell_type": "code",
   "execution_count": 25,
   "id": "322f8051",
   "metadata": {},
   "outputs": [],
   "source": [
    "## Информация по цене и id продукта\n",
    "products = {'product_id': [_ for _ in range(1, 101)],\n",
    "            'price': np.hstack([np.random.exponential(5000, size=1) for _ in range(100)]),\n",
    "            'name': [name() for _ in range(100)]}"
   ]
  },
  {
   "cell_type": "code",
   "execution_count": 274,
   "id": "f10aa6df",
   "metadata": {},
   "outputs": [],
   "source": [
    "df_products = pd.DataFrame(products)\n",
    "df_products = df_products.drop_duplicates(subset = 'name', keep = 'first')"
   ]
  },
  {
   "cell_type": "code",
   "execution_count": 283,
   "id": "15c6388e",
   "metadata": {},
   "outputs": [],
   "source": [
    "df_products.to_csv('Products.csv')"
   ]
  },
  {
   "cell_type": "code",
   "execution_count": 35,
   "id": "71723d5f",
   "metadata": {},
   "outputs": [],
   "source": [
    "## Генерация чеков \n",
    "def corzina():\n",
    "    \n",
    "    if np.random.choice([1,3,5,7,4], p = [0.05, 0.3, 0.5, 0.1, 0.05]) == 4:\n",
    "        a = []\n",
    "        for i in range(4):\n",
    "            a.append(np.random.choice(products['product_id']))\n",
    "        return list(a)\n",
    "    elif np.random.choice([1,3,5,7,4], p = [0.05, 0.3, 0.5, 0.1, 0.05]) == 1:\n",
    "        a = []\n",
    "        for i in range(1):\n",
    "            a.append(np.random.choice(products['product_id']))\n",
    "        return list(a)\n",
    "    \n",
    "    elif np.random.choice([1,3,5,7,4], p = [0.05, 0.3, 0.5, 0.1, 0.05]) == 3:\n",
    "        a = []\n",
    "        for i in range(3):\n",
    "            a.append(np.random.choice(products['product_id']))\n",
    "        return list(a)\n",
    "    elif np.random.choice([1,3,5,7,4], p = [0.05, 0.3, 0.5, 0.1, 0.05]) == 5:\n",
    "        a = []\n",
    "        for i in range(5):\n",
    "            a.append(np.random.choice(products['product_id']))\n",
    "        return list(a)\n",
    "    elif np.random.choice([1,3,5,7,4], p = [0.05, 0.3, 0.5, 0.1, 0.05]) == 7:\n",
    "        a = []\n",
    "        for i in range(7):\n",
    "            a.append(np.random.choice(products['product_id']))\n",
    "        return list(a)"
   ]
  },
  {
   "cell_type": "code",
   "execution_count": 40,
   "id": "a77d1692",
   "metadata": {},
   "outputs": [],
   "source": [
    "## активность пользоваталей\n",
    "\n",
    "users_action = {'user_id':[np.random.choice(data_users['user_id']) for _ in range(1000000)],\n",
    "                'action': ['buy' for _ in range(1000000)],\n",
    "                'time': [faker.date_between(start_date = '-2y') for _ in range(1000000)],\n",
    "                'product_id': [corzina() for _ in range(1000000)]}"
   ]
  },
  {
   "cell_type": "code",
   "execution_count": 41,
   "id": "85b3f9f5",
   "metadata": {},
   "outputs": [],
   "source": [
    "df_users_action = pd.DataFrame(users_action)\n",
    "df_users_action.to_csv('Users_action.csv')"
   ]
  }
 ],
 "metadata": {
  "kernelspec": {
   "display_name": "Python 3 (ipykernel)",
   "language": "python",
   "name": "python3"
  },
  "language_info": {
   "codemirror_mode": {
    "name": "ipython",
    "version": 3
   },
   "file_extension": ".py",
   "mimetype": "text/x-python",
   "name": "python",
   "nbconvert_exporter": "python",
   "pygments_lexer": "ipython3",
   "version": "3.9.7"
  }
 },
 "nbformat": 4,
 "nbformat_minor": 5
}
